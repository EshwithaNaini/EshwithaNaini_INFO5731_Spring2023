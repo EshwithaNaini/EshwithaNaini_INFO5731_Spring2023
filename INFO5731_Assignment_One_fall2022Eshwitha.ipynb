{
  "cells": [
    {
      "cell_type": "markdown",
      "metadata": {
        "id": "view-in-github",
        "colab_type": "text"
      },
      "source": [
        "<a href=\"https://colab.research.google.com/github/EshwithaNaini/EshwithaNaini_INFO5731_Spring2023/blob/main/INFO5731_Assignment_One_fall2022Eshwitha.ipynb\" target=\"_parent\"><img src=\"https://colab.research.google.com/assets/colab-badge.svg\" alt=\"Open In Colab\"/></a>"
      ]
    },
    {
      "cell_type": "markdown",
      "metadata": {
        "id": "Ryk8D1Q4Wsrp"
      },
      "source": [
        "# **INFO5731 Assignment One**"
      ]
    },
    {
      "cell_type": "markdown",
      "metadata": {
        "id": "90_NR8c5XGWc"
      },
      "source": [
        "# Question 1\n",
        "\n",
        "(20 points). Write a Python program to generate 12 random numbers between 1 and 100. Sort the list of numbers in ascending order and print it out. Sort the list of numbers in descending order and print it out. Calculate the average for the group and print it out."
      ]
    },
    {
      "cell_type": "code",
      "execution_count": null,
      "metadata": {
        "id": "5QX6bJjGWXY9",
        "outputId": "59b08b69-3f5e-4867-ee6d-ce070c7167a9"
      },
      "outputs": [
        {
          "name": "stdout",
          "output_type": "stream",
          "text": [
            "random list:  [4, 19, 38, 36, 58, 1, 65, 55, 25, 88, 92, 22]\n",
            "random list in ascending order:  [1, 4, 19, 22, 25, 36, 38, 55, 58, 65, 88, 92]\n",
            "random list in descending order:  [92, 88, 65, 58, 55, 38, 36, 25, 22, 19, 4, 1]\n"
          ]
        }
      ],
      "source": [
        "# Your code here\n",
        "import random\n",
        "\n",
        "random_numbers = []\n",
        "for i in range(0,12):\n",
        "    random_numbers.append(random.randint(1,100))\n",
        "print(\"random list: \",random_numbers)\n",
        "random_numbers.sort()\n",
        "print(\"random list in ascending order: \",random_numbers)\n",
        "random_numbers.sort(reverse=True)\n",
        "print(\"random list in descending order: \",random_numbers)\n"
      ]
    },
    {
      "cell_type": "markdown",
      "metadata": {
        "id": "1F_PZdH9Sh49"
      },
      "source": [
        "# Question 2\n",
        "(25 points). Write a program that will do the following string formatting tasks:\n",
        "\n",
        "(1) Ask the user to enter two sentences.\n",
        "\n",
        "(2) Make each sentence into a list. Each element in the list should correspond to a word in the sentence. For example, if the sentence is \"Alas! Am I alive? This is my first python program\", the program should print out ['Alas, '!', 'Am', 'I', 'alive, '?', 'This', 'is', 'my', 'first', 'python', 'program'].\n",
        "\n",
        "(3) Compare the two sentences. Print out a list of words that occur in both sentences.\n",
        "\n",
        "(4) Remove any punctuation from the sentence and print it back out. It should remove at least the following characters, but it can remove more: period(“.”), comma (“,”), semicolon (“;”), and colon (“:”)\n",
        "\n",
        "(5) Count the number of vowels in the sentences. Print out each vowel and the number of times it appears in the sentences, such as: a:2, e:1, i:0, etc"
      ]
    },
    {
      "cell_type": "code",
      "execution_count": null,
      "metadata": {
        "id": "Y0oOSlsOS0cq",
        "outputId": "76fedc76-474e-4039-fc0b-28f587d71369"
      },
      "outputs": [
        {
          "name": "stdout",
          "output_type": "stream",
          "text": [
            "Enter two sentences\n",
            "sentence1: Hi, I am Eshwitha!\n",
            "sentence2: Hi, My major is Data Science.\n"
          ]
        }
      ],
      "source": [
        "# Ask the user to enter two sentences.\n",
        "# 1\n",
        "print(\"Enter two sentences\")\n",
        "sentence1 = input(\"sentence1: \")\n",
        "sentence2 = input(\"sentence2: \")\n"
      ]
    },
    {
      "cell_type": "code",
      "execution_count": null,
      "metadata": {
        "id": "oaEMN-S434v0",
        "outputId": "0bbdd8d6-02d7-4059-8a3d-59b5c1068513"
      },
      "outputs": [
        {
          "name": "stdout",
          "output_type": "stream",
          "text": [
            "Hi , I am Eshwitha !\n",
            "Hi , My major is Data Science .\n",
            "['Hi', ',', 'I', 'am', 'Eshwitha', '!']\n",
            "['Hi', ',', 'My', 'major', 'is', 'Data', 'Science', '.']\n"
          ]
        }
      ],
      "source": [
        "#Make each sentence into a list. Each element in the list should correspond to a word in the sentence. For example, if the sentence is \"Alas! Am I alive? This is my first python program\", the program should print out ['Alas, '!', 'Am', 'I', 'alive, '?', 'This', 'is', 'my', 'first', 'python', 'program']\n",
        "#2\n",
        "ascii_numbers = []\n",
        "for i in range(33,48):\n",
        "    ascii_numbers.append(i)\n",
        "for i in range(58,65):\n",
        "    ascii_numbers.append(i)\n",
        "for i in range(91,97):\n",
        "    ascii_numbers.append(i)\n",
        "\n",
        "for char in sentence1:\n",
        "    if ord(char) in ascii_numbers:\n",
        "        position = sentence1.rfind(char)\n",
        "        sentence1 = sentence1[0:position]+\" \"+sentence1[position:]\n",
        "for char in sentence2:\n",
        "    if ord(char) in ascii_numbers:\n",
        "        position = sentence2.rfind(char)\n",
        "        sentence2 = sentence2[0:position]+\" \"+sentence2[position:]\n",
        "print(sentence1)\n",
        "print(sentence2)\n",
        "\n",
        "sentence1_list = sentence1.split()\n",
        "sentence2_list = sentence2.split()\n",
        "\n",
        "print(sentence1_list)\n",
        "print(sentence2_list)"
      ]
    },
    {
      "cell_type": "code",
      "execution_count": null,
      "metadata": {
        "id": "v-yYiGJ934v1",
        "outputId": "7c74d639-086b-497d-ebe4-30e5115a0fa3"
      },
      "outputs": [
        {
          "name": "stdout",
          "output_type": "stream",
          "text": [
            "['Hi', ',']\n"
          ]
        }
      ],
      "source": [
        "#3\n",
        "common_words = []\n",
        "for words in sentence1_list:\n",
        "    if words in sentence2_list:\n",
        "        common_words.append(words)\n",
        "print(common_words)"
      ]
    },
    {
      "cell_type": "code",
      "execution_count": null,
      "metadata": {
        "id": "umMvcT4134v1",
        "outputId": "9e55dbff-037a-46b8-aee2-83f18be06c0f"
      },
      "outputs": [
        {
          "name": "stdout",
          "output_type": "stream",
          "text": [
            "Hi  I am Eshwitha \n",
            "Hi  My major is Data Science \n"
          ]
        }
      ],
      "source": [
        "#4\n",
        "import string\n",
        "\n",
        "sentence1 = sentence1.translate(str.maketrans('', '', string.punctuation))\n",
        "print(sentence1)\n",
        "\n",
        "sentence2 = sentence2.translate(str.maketrans('', '', string.punctuation))\n",
        "print(sentence2)"
      ]
    },
    {
      "cell_type": "code",
      "execution_count": null,
      "metadata": {
        "id": "PPeKyQah34v2",
        "outputId": "8c3171cf-bbe3-446b-b2fd-7390c92924eb"
      },
      "outputs": [
        {
          "name": "stdout",
          "output_type": "stream",
          "text": [
            "{'a': 5, 'e': 3, 'i': 6, 'o': 1, 'u': 0}\n"
          ]
        }
      ],
      "source": [
        "#5\n",
        "final_sentence = sentence1 + \" \" + sentence2\n",
        "final_sentence = final_sentence.casefold()\n",
        "\n",
        "vowels = \"aeiou\"\n",
        "count = {}.fromkeys(vowels,0)\n",
        "\n",
        "for char in final_sentence:\n",
        "    if char in count:\n",
        "        count[char] += 1\n",
        "\n",
        "print(count)"
      ]
    },
    {
      "cell_type": "markdown",
      "metadata": {
        "id": "CmFoI4jDS9nx"
      },
      "source": [
        "# Question 3 \n",
        "\n",
        "(15 points). The formula that describes the volume V of a sphere with radius r is the following:\n",
        "\n",
        "$ V=\\frac{4}{3}\\ast\\ \\pi\\ast\\ r^3 $\n",
        "\n",
        "Write a program to calculate the value of V when r is in the range of 1–10. Output the result in the following format:\n",
        "\n",
        "\tr\tV\n",
        "\t1\t…\n",
        "\t2\t…\n",
        "\t3\t…\n"
      ]
    },
    {
      "cell_type": "code",
      "execution_count": null,
      "metadata": {
        "id": "pEyqeioAT95b",
        "outputId": "ae62a774-58e6-4a1c-fefa-28533e12c3ef"
      },
      "outputs": [
        {
          "name": "stdout",
          "output_type": "stream",
          "text": [
            "r          V\n",
            "1    4.1887902047863905\n",
            "2    33.510321638291124\n",
            "3    113.09733552923254\n",
            "4    268.082573106329\n",
            "5    523.5987755982989\n",
            "6    904.7786842338603\n",
            "7    1436.7550402417319\n",
            "8    2144.660584850632\n",
            "9    3053.6280592892786\n",
            "10    4188.790204786391\n"
          ]
        }
      ],
      "source": [
        "pi = 3.1415926535897931\n",
        "radius = [1,2,3,4,5,6,7,8,9,10]\n",
        "print(\"r          V\")\n",
        "for r in radius:\n",
        "    volume = 4.0/3.0 * pi * r**3\n",
        "    print(r,\"  \",volume)\n",
        "\n"
      ]
    },
    {
      "cell_type": "markdown",
      "metadata": {
        "id": "z3tBE7E-Xn5X"
      },
      "source": [
        "# Question 4\n",
        "\n",
        "(40 points). In the field of Data Science, data is often formatted as a comma-delimited (CSV) file, where each line in a file corresponds to a field's value. Refer to Chapter 9 (p. 106) for more information on comma-delimited files. To answer this question, you will need to download the file [Assignment1_denton_housing.csv](https://raw.githubusercontent.com/unt-iialab/info5731-spring2022/main/assignments/Assignment1_denton_housing.csv) included with this assignment. The file [Assignment1_denton_housing.csv](https://raw.githubusercontent.com/unt-iialab/info5731-spring2022/main/assignments/Assignment1_denton_housing.csv) contains statistics about housing in the city of Denton from 2008 to 2014. Write a program to implement the following questions.\n",
        "\n",
        "(1) (10 pts) Calculate the difference in the number of Occupied Housing Units from year to year and print it. The difference must be calculated for the consecutive years such as 2008-2009, 2009-2010 etc. Finally, print the values in the ascending order.\n",
        "\n",
        "(2) (10 pts) For all the years, calculate the percentage of housing units which are vacant an occupied. Print the results in the following format:\n",
        "\n",
        "Year Vacant Housing Units Occupied Housing Units\n",
        "\n",
        "    2008  30%   70%                          \n",
        "\t2009 ----- -----\n",
        "\t2010 ----- -----\n",
        "    2011 ----- -----\n",
        "\t2012 ----- -----\n",
        "    2013 ----- -----\n",
        "\t2014 ----- -----\n",
        "  \n",
        "  \n",
        "\n",
        "(3) (10 pts) Calculate and print the valued and years in which the highest number of housing units were vacant and occupied. Print the results in the following format:  \n",
        "\n",
        "                              Year\tValue\n",
        "\tVacant Housing Units\t  -----   -----\n",
        "\tOccupied Housing Units\t-----   -----\n",
        "\n",
        "(4) (10 pts) Calculate the harmonic mean of the total housing units and print it out. You can find the information about harmonic mean here: https://ncalculators.com/statistics/harmonic-mean-calculator.htm"
      ]
    },
    {
      "cell_type": "code",
      "execution_count": null,
      "metadata": {
        "id": "lqGYuHBhcsRH",
        "outputId": "0b518c4c-9e8c-438d-e3b5-66fe50da146c"
      },
      "outputs": [
        {
          "name": "stdout",
          "output_type": "stream",
          "text": [
            "Differences  [nan, -2622.0, -1565.0, -1404.0, 303.0, -5091.0, 795.0]\n",
            "Differences in ascending order [nan, -5091.0, -2622.0, -1565.0, -1404.0, 303.0, 795.0]\n"
          ]
        }
      ],
      "source": [
        "# Your code here\n",
        "#1\n",
        "import pandas as pd\n",
        "\n",
        "whole_df = pd.read_csv(\"Assignment1_denton_housing.csv\")\n",
        "\n",
        "occupied_housing_units_df = whole_df.loc[whole_df['title_field']==\"Occupied Housing Units\"]\n",
        "\n",
        "difference = occupied_housing_units_df['value'].diff()\n",
        "\n",
        "differences = []\n",
        "for values in difference:\n",
        "    differences.append(values)\n",
        "\n",
        "print(\"Differences \",differences) \n",
        "\n",
        "differences.sort()\n",
        "print(\"Differences in ascending order\",differences)\n",
        "    \n",
        "\n"
      ]
    },
    {
      "cell_type": "code",
      "execution_count": null,
      "metadata": {
        "id": "1R4Ev21H34v3",
        "outputId": "60c493a4-3a17-4887-e3e4-c3346d33ae64"
      },
      "outputs": [
        {
          "name": "stdout",
          "output_type": "stream",
          "text": [
            "Year Vacant Housing Units Occupied Housing Units\n",
            "2014    6 %    94 %\n",
            "2013    9 %    91 %\n",
            "2012    7 %    93 %\n",
            "2011    10 %    90 %\n",
            "2010    9 %    91 %\n",
            "2009    10 %    90 %\n",
            "2008    11 %    89 %\n"
          ]
        }
      ],
      "source": [
        "#2\n",
        "vacant_housing_units_df = whole_df.loc[whole_df['title_field'] == \"Vacant Housing Units\"]\n",
        "\n",
        "total_housing_units_df = whole_df.loc[whole_df['title_field'] == \"Total Housing Units\"]\n",
        "\n",
        "print(\"Year Vacant Housing Units Occupied Housing Units\")\n",
        "for year in total_housing_units_df['year']:\n",
        "    total_units = total_housing_units_df.loc[total_housing_units_df['year'] == year]['value']\n",
        "    total_units = total_units.values[0]\n",
        "    \n",
        "    vacant_units = vacant_housing_units_df.loc[vacant_housing_units_df['year'] == year]['value']\n",
        "    vacant_units = vacant_units.values[0]\n",
        "    \n",
        "    occupied_units = occupied_housing_units_df.loc[occupied_housing_units_df['year'] == year]['value']\n",
        "    occupied_units = occupied_units.values[0]\n",
        "    \n",
        "    occupied_units_percentage = int((occupied_units/total_units)*100)\n",
        "    \n",
        "    vacant_units_percentage = 100-occupied_units_percentage\n",
        "    \n",
        "    print(year,\"  \",vacant_units_percentage,\"%   \",occupied_units_percentage,\"%\")\n",
        "\n"
      ]
    },
    {
      "cell_type": "code",
      "execution_count": null,
      "metadata": {
        "id": "vbA5m6yu34v3",
        "outputId": "9a16ac07-d494-4784-bca7-1f3849b341d5"
      },
      "outputs": [
        {
          "name": "stdout",
          "output_type": "stream",
          "text": [
            "                         year    value\n",
            "Vacant Housing Units     2014    2814\n",
            "Occupied Housing Units   2014    46295\n",
            "Vacant Housing Units     2013    4215\n",
            "Occupied Housing Units   2013    43673\n",
            "Vacant Housing Units     2012    3013\n",
            "Occupied Housing Units   2012    42108\n",
            "Vacant Housing Units     2011    4213\n",
            "Occupied Housing Units   2011    40704\n",
            "Vacant Housing Units     2010    3635\n",
            "Occupied Housing Units   2010    41007\n",
            "Vacant Housing Units     2009    3583\n",
            "Occupied Housing Units   2009    35916\n",
            "Vacant Housing Units     2008    4483\n",
            "Occupied Housing Units   2008    36711\n"
          ]
        }
      ],
      "source": [
        "#3\n",
        "print(\"                         year    value\")\n",
        "for year in total_housing_units_df['year']:\n",
        "    \n",
        "    vacant_units_value = vacant_housing_units_df.loc[vacant_housing_units_df['year'] == year]['value']\n",
        "    vacant_units_value = vacant_units_value.values[0]\n",
        "    \n",
        "    print(\"Vacant Housing Units    \",year,\"  \",vacant_units_value)\n",
        "    \n",
        "    occupied_units_value = occupied_housing_units_df.loc[occupied_housing_units_df['year'] == year]['value']\n",
        "    occupied_units_value = occupied_units_value.values[0]\n",
        "    \n",
        "    print(\"Occupied Housing Units  \",year,\"  \",occupied_units_value)"
      ]
    },
    {
      "cell_type": "code",
      "execution_count": null,
      "metadata": {
        "id": "bhP371TU34v4",
        "outputId": "1b1ba7bb-faed-432b-f44a-2eb4a7dabc86"
      },
      "outputs": [
        {
          "name": "stdout",
          "output_type": "stream",
          "text": [
            "44398.28543969185\n"
          ]
        }
      ],
      "source": [
        "#4\n",
        "\n",
        "import statistics as stats\n",
        "total = []\n",
        "for year in total_housing_units_df['year']:\n",
        "    total_units = total_housing_units_df.loc[total_housing_units_df['year'] == year]['value']\n",
        "    total_units = total_units.values[0]\n",
        "    total.append(total_units)\n",
        "    \n",
        "print(stats.harmonic_mean(total))"
      ]
    },
    {
      "cell_type": "code",
      "execution_count": null,
      "metadata": {
        "id": "Pup-DcRD34v4"
      },
      "outputs": [],
      "source": []
    }
  ],
  "metadata": {
    "colab": {
      "provenance": [],
      "include_colab_link": true
    },
    "kernelspec": {
      "display_name": "Python 3 (ipykernel)",
      "language": "python",
      "name": "python3"
    },
    "language_info": {
      "codemirror_mode": {
        "name": "ipython",
        "version": 3
      },
      "file_extension": ".py",
      "mimetype": "text/x-python",
      "name": "python",
      "nbconvert_exporter": "python",
      "pygments_lexer": "ipython3",
      "version": "3.9.12"
    }
  },
  "nbformat": 4,
  "nbformat_minor": 0
}